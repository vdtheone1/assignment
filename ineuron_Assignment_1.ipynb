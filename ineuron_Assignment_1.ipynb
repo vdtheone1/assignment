{
  "nbformat": 4,
  "nbformat_minor": 0,
  "metadata": {
    "colab": {
      "name": "ineuron Assignment 1.ipynb",
      "provenance": [],
      "collapsed_sections": []
    },
    "kernelspec": {
      "name": "python3",
      "display_name": "Python 3"
    }
  },
  "cells": [
    {
      "cell_type": "markdown",
      "metadata": {
        "id": "AHOoNmwsuwvx",
        "colab_type": "text"
      },
      "source": [
        "Install Jupyter notebook and run the first program and share the screenshot of the output."
      ]
    },
    {
      "cell_type": "markdown",
      "metadata": {
        "id": "d20vmBqGGRJC",
        "colab_type": "text"
      },
      "source": [
        "![picture](https://drive.google.com/uc?id=1Up0ZkVe7lbHyrLrWaiAyZH-PmWDlOQRr)"
      ]
    },
    {
      "cell_type": "code",
      "metadata": {
        "id": "zG0Alvqduzpw",
        "colab_type": "code",
        "colab": {}
      },
      "source": [
        ""
      ],
      "execution_count": 0,
      "outputs": []
    },
    {
      "cell_type": "markdown",
      "metadata": {
        "id": "K69y-CettESM",
        "colab_type": "text"
      },
      "source": [
        "Write a program which will find all such numbers which are divisible by 7 but are not a multipleof 5, between 2000 and 3200 (both included). The numbers obtained should be printed in acomma-separated sequence on a single line"
      ]
    },
    {
      "cell_type": "markdown",
      "metadata": {
        "id": "oUegcTPytDMg",
        "colab_type": "text"
      },
      "source": [
        ""
      ]
    },
    {
      "cell_type": "code",
      "metadata": {
        "id": "Cqw1Ya_1tNzD",
        "colab_type": "code",
        "outputId": "4f8968b8-67b4-4ff0-8528-df53dd119b39",
        "colab": {
          "base_uri": "https://localhost:8080/",
          "height": 55
        }
      },
      "source": [
        "for i in range(2000,3201):\n",
        "  if i%7==0 and i%5!=0:\n",
        "    print(i,\",\",end=' ')"
      ],
      "execution_count": 0,
      "outputs": [
        {
          "output_type": "stream",
          "text": [
            "2002 , 2009 , 2016 , 2023 , 2037 , 2044 , 2051 , 2058 , 2072 , 2079 , 2086 , 2093 , 2107 , 2114 , 2121 , 2128 , 2142 , 2149 , 2156 , 2163 , 2177 , 2184 , 2191 , 2198 , 2212 , 2219 , 2226 , 2233 , 2247 , 2254 , 2261 , 2268 , 2282 , 2289 , 2296 , 2303 , 2317 , 2324 , 2331 , 2338 , 2352 , 2359 , 2366 , 2373 , 2387 , 2394 , 2401 , 2408 , 2422 , 2429 , 2436 , 2443 , 2457 , 2464 , 2471 , 2478 , 2492 , 2499 , 2506 , 2513 , 2527 , 2534 , 2541 , 2548 , 2562 , 2569 , 2576 , 2583 , 2597 , 2604 , 2611 , 2618 , 2632 , 2639 , 2646 , 2653 , 2667 , 2674 , 2681 , 2688 , 2702 , 2709 , 2716 , 2723 , 2737 , 2744 , 2751 , 2758 , 2772 , 2779 , 2786 , 2793 , 2807 , 2814 , 2821 , 2828 , 2842 , 2849 , 2856 , 2863 , 2877 , 2884 , 2891 , 2898 , 2912 , 2919 , 2926 , 2933 , 2947 , 2954 , 2961 , 2968 , 2982 , 2989 , 2996 , 3003 , 3017 , 3024 , 3031 , 3038 , 3052 , 3059 , 3066 , 3073 , 3087 , 3094 , 3101 , 3108 , 3122 , 3129 , 3136 , 3143 , 3157 , 3164 , 3171 , 3178 , 3192 , 3199 , "
          ],
          "name": "stdout"
        }
      ]
    },
    {
      "cell_type": "code",
      "metadata": {
        "id": "nFtj7VeWuDLu",
        "colab_type": "code",
        "colab": {}
      },
      "source": [
        ""
      ],
      "execution_count": 0,
      "outputs": []
    },
    {
      "cell_type": "markdown",
      "metadata": {
        "id": "aoIlSEhfuMZy",
        "colab_type": "text"
      },
      "source": [
        "Write a Python program to accept the user's first and last name and then getting them printed inthe the reverse order with a space between first name and last name"
      ]
    },
    {
      "cell_type": "markdown",
      "metadata": {
        "id": "KqJ6XvHyuLdP",
        "colab_type": "text"
      },
      "source": [
        ""
      ]
    },
    {
      "cell_type": "code",
      "metadata": {
        "id": "yybXo667uN7X",
        "colab_type": "code",
        "outputId": "2c747da9-2c77-4f04-a97f-d2a4c8450fa0",
        "colab": {
          "base_uri": "https://localhost:8080/",
          "height": 72
        }
      },
      "source": [
        "first_name=input (str('Please enter the first name'))\n",
        "last_name=input (str('Please enter the first name'))\n",
        "print(first_name[::-1],' ',last_name[::-1])"
      ],
      "execution_count": 0,
      "outputs": [
        {
          "output_type": "stream",
          "text": [
            "Please enter the first namedhawan\n",
            "Please enter the first namehemanth\n",
            "nawahd   htnameh\n"
          ],
          "name": "stdout"
        }
      ]
    },
    {
      "cell_type": "markdown",
      "metadata": {
        "id": "YInAkLyyvGU_",
        "colab_type": "text"
      },
      "source": [
        "Write a Python program to find the volume of a sphere with diameter 12 cm.Formula: V=4/3 * π * r3\n"
      ]
    },
    {
      "cell_type": "code",
      "metadata": {
        "id": "Ps8TrYstuuDW",
        "colab_type": "code",
        "outputId": "0a17dc92-d4d1-4b3d-d735-03b2484bb009",
        "colab": {
          "base_uri": "https://localhost:8080/",
          "height": 35
        }
      },
      "source": [
        "def volume_of_sphere(r):\n",
        "  import math\n",
        "  print((4/3)*math.pi*r**3,'cm3')\n",
        "\n",
        "volume_of_sphere(9)"
      ],
      "execution_count": 0,
      "outputs": [
        {
          "output_type": "stream",
          "text": [
            "3053.6280592892786 cm3\n"
          ],
          "name": "stdout"
        }
      ]
    },
    {
      "cell_type": "code",
      "metadata": {
        "id": "F6nu-DvHvpYW",
        "colab_type": "code",
        "colab": {}
      },
      "source": [
        ""
      ],
      "execution_count": 0,
      "outputs": []
    },
    {
      "cell_type": "markdown",
      "metadata": {
        "id": "eInCLKTzwJm8",
        "colab_type": "text"
      },
      "source": [
        "**Task 2**\n",
        "\n",
        "Write a program which accepts a sequence of comma-separated numbers from console andgenerate a list."
      ]
    },
    {
      "cell_type": "code",
      "metadata": {
        "id": "rbVLmd_ywQ5S",
        "colab_type": "code",
        "outputId": "1fcda706-a3c7-4fe9-dde8-912951c61772",
        "colab": {
          "base_uri": "https://localhost:8080/",
          "height": 54
        }
      },
      "source": [
        "numbers=input('Please enter the numbers to be converted into list : ')\n",
        "print(numbers.split(','))"
      ],
      "execution_count": 0,
      "outputs": [
        {
          "output_type": "stream",
          "text": [
            "Please enter the numbers to be converted into list44,55,44\n",
            "['44', '55', '44']\n"
          ],
          "name": "stdout"
        }
      ]
    },
    {
      "cell_type": "markdown",
      "metadata": {
        "id": "bTVoC9UXxVhN",
        "colab_type": "text"
      },
      "source": [
        ""
      ]
    },
    {
      "cell_type": "markdown",
      "metadata": {
        "id": "6x7cpPVM_t9O",
        "colab_type": "text"
      },
      "source": [
        "![picture](https://drive.google.com/uc?id=1WTRymlQuFPn90Ru0i6JkABhyN_RmXGJD)"
      ]
    },
    {
      "cell_type": "code",
      "metadata": {
        "id": "lrBaqN0oxXv_",
        "colab_type": "code",
        "outputId": "043aff8b-40ad-4fbf-d45b-792093fbc65d",
        "colab": {
          "base_uri": "https://localhost:8080/",
          "height": 181
        }
      },
      "source": [
        "for i in range(1,6):\n",
        "  print(\"*\"*i)\n",
        "for j in range(4,0,-1):\n",
        "  print(\"*\"*j)\n"
      ],
      "execution_count": 0,
      "outputs": [
        {
          "output_type": "stream",
          "text": [
            "*\n",
            "**\n",
            "***\n",
            "****\n",
            "*****\n",
            "****\n",
            "***\n",
            "**\n",
            "*\n"
          ],
          "name": "stdout"
        }
      ]
    },
    {
      "cell_type": "markdown",
      "metadata": {
        "id": "Rpabqvk8xzwK",
        "colab_type": "text"
      },
      "source": [
        "Write a Python program to reverse a word after accepting the input from the user."
      ]
    },
    {
      "cell_type": "code",
      "metadata": {
        "id": "NBNSACLtx0uX",
        "colab_type": "code",
        "outputId": "287d083d-5d11-42b3-dc89-8729fa744a18",
        "colab": {
          "base_uri": "https://localhost:8080/",
          "height": 72
        }
      },
      "source": [
        "word=input(str('please enter the word'))\n",
        "print('sample input: ',a,'\\n','sample output: ',a[::-1])"
      ],
      "execution_count": 0,
      "outputs": [
        {
          "output_type": "stream",
          "text": [
            "please enter the worddhawan\n",
            "sample input:  dhawan \n",
            " sample output:  nawahd\n"
          ],
          "name": "stdout"
        }
      ]
    },
    {
      "cell_type": "markdown",
      "metadata": {
        "id": "cgZ3oY3Py6Qj",
        "colab_type": "text"
      },
      "source": [
        "Write a Python Program to print the given string in the format specified in the ​sample output.WE, THE PEOPLE OF INDIA, having solemnly resolved to constitute India into aSOVEREIGN, SOCIALIST, SECULAR, DEMOCRATIC REPUBLIC and to secure to allits citizens"
      ]
    },
    {
      "cell_type": "code",
      "metadata": {
        "id": "G4jC3tJcy7i4",
        "colab_type": "code",
        "outputId": "1e3f8b8d-5564-43ab-982f-80903c0eb115",
        "colab": {
          "base_uri": "https://localhost:8080/",
          "height": 90
        }
      },
      "source": [
        "print(''' WE, THE PEOPLE OF INDIA, \n",
        "                having solemnly resolved to constitute India into a SOVEREIGN,!                      \n",
        "                 SOCIALIST, SECULAR, DEMOCRATIC REPUBLIC  \n",
        "                  and to secure to all its citizens''')"
      ],
      "execution_count": 0,
      "outputs": [
        {
          "output_type": "stream",
          "text": [
            " WE, THE PEOPLE OF INDIA, \n",
            "                having solemnly resolved to constitute India into a SOVEREIGN,!                      \n",
            "                 SOCIALIST, SECULAR, DEMOCRATIC REPUBLIC  \n",
            "                  and to secure to all its citizens\n"
          ],
          "name": "stdout"
        }
      ]
    }
  ]
}