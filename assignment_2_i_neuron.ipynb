{
  "nbformat": 4,
  "nbformat_minor": 0,
  "metadata": {
    "colab": {
      "name": "assignment 2 i_neuron.ipynb",
      "provenance": [],
      "collapsed_sections": []
    },
    "kernelspec": {
      "name": "python3",
      "display_name": "Python 3"
    }
  },
  "cells": [
    {
      "cell_type": "markdown",
      "metadata": {
        "id": "RqfxKEYFF_qP",
        "colab_type": "text"
      },
      "source": [
        "Write a Python Program to implement your own myreduce() function which works exactly likePython's built-in function reduce()"
      ]
    },
    {
      "cell_type": "code",
      "metadata": {
        "id": "HgWW5oo5GApU",
        "colab_type": "code",
        "outputId": "ee504bd1-613f-49f3-b5c4-bbc077ff28ab",
        "colab": {
          "base_uri": "https://localhost:8080/",
          "height": 35
        }
      },
      "source": [
        "def my_reduce(func,b):\n",
        "  result=b[0]\n",
        "  for i in b[1::]:\n",
        "    result=func(result,i)\n",
        "  return result\n",
        "\n",
        "a=[1,2,0,1,5,0,1,5]\n",
        "def add(a,b):\n",
        "  return  a+b\n",
        "my_reduce(add,a)\n"
      ],
      "execution_count": 0,
      "outputs": [
        {
          "output_type": "execute_result",
          "data": {
            "text/plain": [
              "15"
            ]
          },
          "metadata": {
            "tags": []
          },
          "execution_count": 6
        }
      ]
    },
    {
      "cell_type": "markdown",
      "metadata": {
        "id": "e3s6PAOpJiNT",
        "colab_type": "text"
      },
      "source": [
        "Write a Python program to implement your own myfilter() function which works exactly likePython's built-in function filter()"
      ]
    },
    {
      "cell_type": "code",
      "metadata": {
        "id": "nXridcmSIeg4",
        "colab_type": "code",
        "outputId": "e4b4d41f-c33f-44ec-8c25-d4f912ebbaa5",
        "colab": {
          "base_uri": "https://localhost:8080/",
          "height": 35
        }
      },
      "source": [
        "def my_filter(func,b):\n",
        "  result=[]\n",
        "  for i in b:\n",
        "    if func(i):\n",
        "      result.append(i)\n",
        "  return result\n",
        "\n",
        "a=[100,-42,0,1,25,0,1,55]\n",
        "def greater_then_18(a):\n",
        "  if a>18:\n",
        "      return a\n",
        "\n",
        "\n",
        "my_filter(greater_then_18,a)"
      ],
      "execution_count": 0,
      "outputs": [
        {
          "output_type": "execute_result",
          "data": {
            "text/plain": [
              "[100, 25, 55]"
            ]
          },
          "metadata": {
            "tags": []
          },
          "execution_count": 13
        }
      ]
    },
    {
      "cell_type": "markdown",
      "metadata": {
        "id": "m_N0tGVsEcVW",
        "colab_type": "text"
      },
      "source": [
        "Implement List comprehensions to produce the following lists.Write List comprehensions to produce the following Lists\n",
        "\n",
        "['A', 'C', 'A', 'D', 'G', 'I', ’L’, ‘ D’]\n",
        "\n",
        "['x', 'xx', 'xxx', 'xxxx', 'y', 'yy', 'yyy', 'yyyy', 'z', 'zz', 'zzz', 'zzzz']\n",
        "\n",
        "['x', 'y', 'z', 'xx', 'yy', 'zz', 'xx', 'yy', 'zz', 'xxxx', 'yyyy', 'zzzz']\n",
        "\n",
        "[[2], [3], [4], [3], [4], [5], [4], [5], [6]]\n",
        "\n",
        "[[2, 3, 4, 5], [3, 4, 5, 6], [4, 5, 6, 7], [5, 6, 7, 8]]\n",
        "\n",
        "[(1, 1), (2, 1), (3, 1), (1, 2), (2, 2), (3, 2), (1, 3), (2, 3), (3, 3)]\n"
      ]
    },
    {
      "cell_type": "code",
      "metadata": {
        "id": "TcZUDKNdNplN",
        "colab_type": "code",
        "outputId": "d539692d-d297-4cbd-83ea-64a4c1c316fe",
        "colab": {
          "base_uri": "https://localhost:8080/",
          "height": 126
        }
      },
      "source": [
        "print([i for i in ['A', 'C', 'A', 'D', 'G', 'I', 'L', 'D']])\n",
        "print([i*j for i in ['x','y','z'] for j in range(1,5)])\n",
        "print([i*j for i in range(1,4)  for j in ['x','y','z']])\n",
        "print([[j] for i in range(2,5)  for j in range(i,i+3) ])\n",
        "print([[j for j in range(i,i+4)] for i in range(2,6)  ])\n",
        "print([(i,j)for j in range(1,4)  for i in range(1,4)])\n"
      ],
      "execution_count": 0,
      "outputs": [
        {
          "output_type": "stream",
          "text": [
            "['A', 'C', 'A', 'D', 'G', 'I', 'L', 'D']\n",
            "['x', 'xx', 'xxx', 'xxxx', 'y', 'yy', 'yyy', 'yyyy', 'z', 'zz', 'zzz', 'zzzz']\n",
            "['x', 'y', 'z', 'xx', 'yy', 'zz', 'xxx', 'yyy', 'zzz']\n",
            "[[2], [3], [4], [3], [4], [5], [4], [5], [6]]\n",
            "[[2, 3, 4, 5], [3, 4, 5, 6], [4, 5, 6, 7], [5, 6, 7, 8]]\n",
            "[(1, 1), (2, 1), (3, 1), (1, 2), (2, 2), (3, 2), (1, 3), (2, 3), (3, 3)]\n"
          ],
          "name": "stdout"
        }
      ]
    },
    {
      "cell_type": "markdown",
      "metadata": {
        "id": "t6tEidGtLQC-",
        "colab_type": "text"
      },
      "source": [
        "Implement a function longestWord() that takes a list of words and returns the longest one"
      ]
    },
    {
      "cell_type": "code",
      "metadata": {
        "id": "aVUgIVHwGCHb",
        "colab_type": "code",
        "outputId": "420bdeb7-631e-48a9-c35a-95eedd2217c8",
        "colab": {
          "base_uri": "https://localhost:8080/",
          "height": 35
        }
      },
      "source": [
        "def longestword(a):\n",
        "  return ''.join(a)\n",
        "\n",
        "a=['dog','cat','monkey']\n",
        "longestword(a)"
      ],
      "execution_count": 2,
      "outputs": [
        {
          "output_type": "execute_result",
          "data": {
            "text/plain": [
              "'dogcatmonkey'"
            ]
          },
          "metadata": {
            "tags": []
          },
          "execution_count": 2
        }
      ]
    },
    {
      "cell_type": "markdown",
      "metadata": {
        "id": "vsct9c-w1W9S",
        "colab_type": "text"
      },
      "source": [
        "Task 2:"
      ]
    },
    {
      "cell_type": "markdown",
      "metadata": {
        "id": "LcNMUftA1aYW",
        "colab_type": "text"
      },
      "source": [
        "Write a Python Program(with class concepts) to find the area of the triangle using the belowformula.area = (s*(s-a)*(s-b)*(s-c)) ** 0.5Function to take the length of the sides of triangle from user should be defined in the parentclass and function to calculate the area should be defined in subclass."
      ]
    },
    {
      "cell_type": "code",
      "metadata": {
        "id": "sSSD1CZnG8m-",
        "colab_type": "code",
        "colab": {
          "base_uri": "https://localhost:8080/",
          "height": 35
        },
        "outputId": "d175a64e-01cf-4784-de23-8074d82a7733"
      },
      "source": [
        "class triangle():\n",
        "  def __init__(self, length_of_sides):\n",
        "        \n",
        "        self.length_of_sides = length_of_sides\n",
        "  def area(self):\n",
        "    a,b,c=self.length_of_sides\n",
        "    s = (a + b + c) / 2\n",
        "    return (s*(s-a)*(s-b)*(s-c)) ** 0.5\n",
        "a=triangle([9,2,6])\n",
        "print(a.area())\n",
        "  "
      ],
      "execution_count": 9,
      "outputs": [
        {
          "output_type": "stream",
          "text": [
            "(5.088643237398465e-16+8.31038506929733j)\n"
          ],
          "name": "stdout"
        }
      ]
    },
    {
      "cell_type": "markdown",
      "metadata": {
        "id": "cK8DzmIF3iJz",
        "colab_type": "text"
      },
      "source": [
        "Write a function filter_long_words() that takes a list of words and an integer n and returns the listof words that are longer than n."
      ]
    },
    {
      "cell_type": "code",
      "metadata": {
        "id": "3m9xSmK72ZAk",
        "colab_type": "code",
        "colab": {
          "base_uri": "https://localhost:8080/",
          "height": 35
        },
        "outputId": "eb9d3b78-aebd-4d78-9cd7-173f10b878a6"
      },
      "source": [
        "def filter_long_words(a,b):\n",
        "  long_words=[]\n",
        "  for i in a:\n",
        "    if len(i)>=b:\n",
        "      long_words.append(i)\n",
        "  return long_words\n",
        "\n",
        "v=['hemanth','dhawan','joker','love']\n",
        "b=5\n",
        "filter_long_words(v,b)\n"
      ],
      "execution_count": 12,
      "outputs": [
        {
          "output_type": "execute_result",
          "data": {
            "text/plain": [
              "['hemanth', 'dhawan', 'joker']"
            ]
          },
          "metadata": {
            "tags": []
          },
          "execution_count": 12
        }
      ]
    },
    {
      "cell_type": "markdown",
      "metadata": {
        "id": "KMFgAPs04uaf",
        "colab_type": "text"
      },
      "source": [
        "Write a Python program using function concept that maps  list of words into a list of integersrepresenting the lengths of the corresponding words​.Hint: ​If a list [ ab,cde,erty] is passed on to the python function output should come as [2,3,4]Here 2,3 and 4 are the lengths of the words in the list.\n"
      ]
    },
    {
      "cell_type": "code",
      "metadata": {
        "id": "vRIOu_5X4ZyN",
        "colab_type": "code",
        "colab": {
          "base_uri": "https://localhost:8080/",
          "height": 35
        },
        "outputId": "a683ae67-9864-4c52-a295-762605d34e41"
      },
      "source": [
        "a=[ 'ab','cde','erty'] \n",
        "list(map(lambda x: len(x),a))"
      ],
      "execution_count": 16,
      "outputs": [
        {
          "output_type": "execute_result",
          "data": {
            "text/plain": [
              "[2, 3, 4]"
            ]
          },
          "metadata": {
            "tags": []
          },
          "execution_count": 16
        }
      ]
    },
    {
      "cell_type": "markdown",
      "metadata": {
        "id": "CgmniiVq5tBa",
        "colab_type": "text"
      },
      "source": [
        "Write a Python function which takes a character (i.e. a string of length 1) and returns True if it isa vowel, False otherwise."
      ]
    },
    {
      "cell_type": "code",
      "metadata": {
        "id": "9W8YOAvj5ImQ",
        "colab_type": "code",
        "colab": {
          "base_uri": "https://localhost:8080/",
          "height": 35
        },
        "outputId": "2472f96a-e4eb-4c73-f315-6bdfe6623cc5"
      },
      "source": [
        "def check_vowel(a):\n",
        "  if a.upper() in ['A',\"E\",'I','O','U']:\n",
        "    return True\n",
        "  else:\n",
        "    return False\n",
        "check_vowel('t')"
      ],
      "execution_count": 20,
      "outputs": [
        {
          "output_type": "execute_result",
          "data": {
            "text/plain": [
              "False"
            ]
          },
          "metadata": {
            "tags": []
          },
          "execution_count": 20
        }
      ]
    },
    {
      "cell_type": "code",
      "metadata": {
        "id": "NKepjnLZ6TYF",
        "colab_type": "code",
        "colab": {}
      },
      "source": [
        ""
      ],
      "execution_count": 0,
      "outputs": []
    }
  ]
}