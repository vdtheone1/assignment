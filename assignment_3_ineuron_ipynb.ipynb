{
  "nbformat": 4,
  "nbformat_minor": 0,
  "metadata": {
    "colab": {
      "name": "assignment 3 ineuron. ipynb",
      "provenance": [],
      "collapsed_sections": []
    },
    "kernelspec": {
      "name": "python3",
      "display_name": "Python 3"
    }
  },
  "cells": [
    {
      "cell_type": "markdown",
      "metadata": {
        "id": "CtM6H3e0vjdt",
        "colab_type": "text"
      },
      "source": [
        "1.Write a function to compute 5/0 and use try/except to catch the exceptions."
      ]
    },
    {
      "cell_type": "code",
      "metadata": {
        "id": "8s96Ijl2vWhY",
        "colab_type": "code",
        "colab": {
          "base_uri": "https://localhost:8080/",
          "height": 35
        },
        "outputId": "8e853505-16d2-4545-e976-cbfcc8c139ef"
      },
      "source": [
        "def div():\n",
        "  return 5/0\n",
        "try:\n",
        "  div()\n",
        "   \n",
        "except Exception as e:\n",
        "  print(e)\n"
      ],
      "execution_count": 2,
      "outputs": [
        {
          "output_type": "stream",
          "text": [
            "division by zero\n"
          ],
          "name": "stdout"
        }
      ]
    },
    {
      "cell_type": "markdown",
      "metadata": {
        "id": "OSZkvcxfwtMs",
        "colab_type": "text"
      },
      "source": [
        "2.Implement a Python program to generate all sentences where subject is in [\"Americans\",\"Indians\"] and verb is in [\"Play\", \"watch\"] and the object is in [\"Baseball\",\"cricket\"].\n",
        "\n",
        "Hint: Subject,Verb and Object should be declared in the program as shown below.subjects=[\"Americans \",\"Indians\"]verbs=[\"play\",\"watch\"]objects=[\"Baseball\",\"Cricket\"]"
      ]
    },
    {
      "cell_type": "code",
      "metadata": {
        "id": "2UG3b9xXwqs3",
        "colab_type": "code",
        "colab": {
          "base_uri": "https://localhost:8080/",
          "height": 163
        },
        "outputId": "baea6e24-efb7-47be-f094-de095e95c3be"
      },
      "source": [
        "for i in [\"Americans\",\"Indians\"]:\n",
        "  for j in [\"Play\", \"watch\"]:\n",
        "    for k in [\"Baseball\",\"cricket\"]:\n",
        "      print(i,j,k)"
      ],
      "execution_count": 3,
      "outputs": [
        {
          "output_type": "stream",
          "text": [
            "Americans Play Baseball\n",
            "Americans Play cricket\n",
            "Americans watch Baseball\n",
            "Americans watch cricket\n",
            "Indians Play Baseball\n",
            "Indians Play cricket\n",
            "Indians watch Baseball\n",
            "Indians watch cricket\n"
          ],
          "name": "stdout"
        }
      ]
    },
    {
      "cell_type": "markdown",
      "metadata": {
        "id": "fDjNIUxlxfdS",
        "colab_type": "text"
      },
      "source": [
        "**Task 2:**\n",
        "\n",
        "1.Write a function so that the columns of the output matrix are powers of the input vector.\n",
        "\n",
        "Theorderofthepowersisdeterminedbytheincreasingbooleanargument.Specifically,whenincreasingisFalse,thei-thoutputcolumnistheinputvectorraisedelement-wisetothepowerof N - i - 1.\n",
        "\n",
        "HINT:SuchamatrixwithageometricprogressionineachrowisnamedforAlexandre-Theophile Vandermonde.\n",
        "\n",
        "NOTE:​​The​​solution​​shared​​through​​Github​​should​​contain​​the​​source code​​used​​and​​the​​screenshot​​of​​the​​output.3.​​OutputN/A"
      ]
    },
    {
      "cell_type": "code",
      "metadata": {
        "id": "2jKlWw8UxXUn",
        "colab_type": "code",
        "colab": {
          "base_uri": "https://localhost:8080/",
          "height": 108
        },
        "outputId": "df547309-4ae3-4c87-e525-96bb40458602"
      },
      "source": [
        "import numpy as np\n",
        "def vendor(x):\n",
        "  N=int(input())\n",
        "  array=np.column_stack([x**(N-1-i) for i in range(N)])\n",
        "  return array\n",
        "vendor(np.array([1, 2, 3, 5]))"
      ],
      "execution_count": 4,
      "outputs": [
        {
          "output_type": "stream",
          "text": [
            "3\n"
          ],
          "name": "stdout"
        },
        {
          "output_type": "execute_result",
          "data": {
            "text/plain": [
              "array([[ 1,  1,  1],\n",
              "       [ 4,  2,  1],\n",
              "       [ 9,  3,  1],\n",
              "       [25,  5,  1]])"
            ]
          },
          "metadata": {
            "tags": []
          },
          "execution_count": 4
        }
      ]
    }
  ]
}